{
 "cells": [
  {
   "cell_type": "markdown",
   "metadata": {},
   "source": [
    "# Leaflet cluster map of talk locations\n",
    "\n",
    "Run this from the _talks/ directory, which contains .md files of all your talks. This scrapes the location YAML field from each .md file, geolocates it with geopy/Nominatim, and uses the getorg library to output data, HTML, and Javascript for a standalone cluster map."
   ]
  },
  {
   "cell_type": "code",
   "execution_count": 1,
   "metadata": {
    "collapsed": false
   },
   "outputs": [
    {
     "name": "stderr",
     "output_type": "stream",
     "text": [
      "WARNING: Ignoring invalid distribution -cipy (c:\\users\\z3534050\\anaconda3\\lib\\site-packages)\n",
      "WARNING: Ignoring invalid distribution -cipy (c:\\users\\z3534050\\anaconda3\\lib\\site-packages)\n",
      "WARNING: Ignoring invalid distribution -cipy (c:\\users\\z3534050\\anaconda3\\lib\\site-packages)\n",
      "WARNING: Ignoring invalid distribution -cipy (c:\\users\\z3534050\\anaconda3\\lib\\site-packages)\n",
      "WARNING: Ignoring invalid distribution -cipy (c:\\users\\z3534050\\anaconda3\\lib\\site-packages)\n",
      "WARNING: Ignoring invalid distribution -cipy (c:\\users\\z3534050\\anaconda3\\lib\\site-packages)\n"
     ]
    },
    {
     "name": "stdout",
     "output_type": "stream",
     "text": [
      "Requirement already satisfied: getorg in c:\\users\\z3534050\\anaconda3\\lib\\site-packages (0.3.1)\n",
      "Requirement already satisfied: retrying in c:\\users\\z3534050\\anaconda3\\lib\\site-packages (from getorg) (1.3.4)\n",
      "Requirement already satisfied: geopy in c:\\users\\z3534050\\anaconda3\\lib\\site-packages (from getorg) (2.3.0)\n",
      "Requirement already satisfied: pygithub in c:\\users\\z3534050\\anaconda3\\lib\\site-packages (from getorg) (1.58.1)\n",
      "Requirement already satisfied: geographiclib<3,>=1.52 in c:\\users\\z3534050\\anaconda3\\lib\\site-packages (from geopy->getorg) (2.0)\n",
      "Requirement already satisfied: deprecated in c:\\users\\z3534050\\anaconda3\\lib\\site-packages (from pygithub->getorg) (1.2.13)\n",
      "Requirement already satisfied: requests>=2.14.0 in c:\\users\\z3534050\\anaconda3\\lib\\site-packages (from pygithub->getorg) (2.26.0)\n",
      "Requirement already satisfied: pynacl>=1.4.0 in c:\\users\\z3534050\\anaconda3\\lib\\site-packages (from pygithub->getorg) (1.4.0)\n",
      "Requirement already satisfied: pyjwt[crypto]>=2.4.0 in c:\\users\\z3534050\\anaconda3\\lib\\site-packages (from pygithub->getorg) (2.6.0)\n",
      "Requirement already satisfied: cryptography>=3.4.0 in c:\\users\\z3534050\\anaconda3\\lib\\site-packages (from pyjwt[crypto]>=2.4.0->pygithub->getorg) (3.4.8)\n",
      "Requirement already satisfied: cffi>=1.12 in c:\\users\\z3534050\\anaconda3\\lib\\site-packages (from cryptography>=3.4.0->pyjwt[crypto]>=2.4.0->pygithub->getorg) (1.14.6)\n",
      "Requirement already satisfied: pycparser in c:\\users\\z3534050\\anaconda3\\lib\\site-packages (from cffi>=1.12->cryptography>=3.4.0->pyjwt[crypto]>=2.4.0->pygithub->getorg) (2.20)\n",
      "Requirement already satisfied: six in c:\\users\\z3534050\\anaconda3\\lib\\site-packages (from pynacl>=1.4.0->pygithub->getorg) (1.16.0)\n",
      "Requirement already satisfied: urllib3<1.27,>=1.21.1 in c:\\users\\z3534050\\anaconda3\\lib\\site-packages (from requests>=2.14.0->pygithub->getorg) (1.26.7)\n",
      "Requirement already satisfied: certifi>=2017.4.17 in c:\\users\\z3534050\\anaconda3\\lib\\site-packages (from requests>=2.14.0->pygithub->getorg) (2021.10.8)\n",
      "Requirement already satisfied: charset-normalizer~=2.0.0 in c:\\users\\z3534050\\anaconda3\\lib\\site-packages (from requests>=2.14.0->pygithub->getorg) (2.0.4)\n",
      "Requirement already satisfied: idna<4,>=2.5 in c:\\users\\z3534050\\anaconda3\\lib\\site-packages (from requests>=2.14.0->pygithub->getorg) (3.2)\n",
      "Requirement already satisfied: wrapt<2,>=1.10 in c:\\users\\z3534050\\anaconda3\\lib\\site-packages (from deprecated->pygithub->getorg) (1.12.1)\n",
      "Note: you may need to restart the kernel to use updated packages.\n",
      "IPywidgets and ipyleaflet support enabled.\n"
     ]
    }
   ],
   "source": [
    "%pip install getorg --upgrade\n",
    "import glob\n",
    "import getorg\n",
    "from geopy import Nominatim"
   ]
  },
  {
   "cell_type": "code",
   "execution_count": 3,
   "metadata": {
    "collapsed": false
   },
   "outputs": [],
   "source": [
    "g = glob.glob(\"*.md\")"
   ]
  },
  {
   "cell_type": "code",
   "execution_count": 4,
   "metadata": {
    "collapsed": true
   },
   "outputs": [],
   "source": [
    "geocoder = Nominatim(user_agent=\"http\")\n",
    "location_dict = {}\n",
    "location = \"\"\n",
    "permalink = \"\"\n",
    "title = \"\""
   ]
  },
  {
   "cell_type": "code",
   "execution_count": 5,
   "metadata": {
    "collapsed": false
   },
   "outputs": [
    {
     "name": "stdout",
     "output_type": "stream",
     "text": [
      "Sofia, Bulgaria \n",
      " София, Столична, София-град, България\n",
      "Cambridge, UK \n",
      " Cambridge, Cambridgeshire, Cambridgeshire and Peterborough, England, United Kingdom\n",
      "Barga, Italy \n",
      " Barga, Unione dei comuni Media Valle del Serchio, Lucca, Toscana, Italia\n",
      "Dubrovnik, Croatia \n",
      " Dubrovnik, Grad Dubrovnik, Dubrovačko-neretvanska županija, Hrvatska\n",
      "Zell am See, Austria \n",
      " Zell am See, Bezirk Zell am See, Salzburg, 5700, Österreich\n",
      "Hasselt, Belgium \n",
      " Hasselt, Limburg, Vlaanderen, België / Belgique / Belgien\n",
      "Zhejiang, China \n",
      " 浙江省, 中国\n",
      "Leura, Australia \n",
      " Leura, Sydney, Blue Mountains City Council, New South Wales, 2780, Australia\n",
      "Brisbane, Australia \n",
      " Brisbane City, Queensland, Australia\n",
      "Lorne, Australia \n",
      " Lorne, Surf Coast Shire, Victoria, 3232, Australia\n",
      "Sydney, Australia \n",
      " Sydney, Council of the City of Sydney, New South Wales, Australia\n"
     ]
    }
   ],
   "source": [
    "\n",
    "for file in g:\n",
    "    with open(file, 'r') as f:\n",
    "        lines = f.read()\n",
    "        if lines.find('location: \"') > 1:\n",
    "            loc_start = lines.find('location: \"') + 11\n",
    "            lines_trim = lines[loc_start:]\n",
    "            loc_end = lines_trim.find('\"')\n",
    "            location = lines_trim[:loc_end]\n",
    "    \n",
    "            location_dict[location] = geocoder.geocode(location, timeout=None)\n",
    "            print(location, \"\\n\", location_dict[location])\n"
   ]
  },
  {
   "cell_type": "code",
   "execution_count": 6,
   "metadata": {
    "collapsed": false
   },
   "outputs": [
    {
     "data": {
      "text/plain": [
       "'Written map to ../talkmap/'"
      ]
     },
     "execution_count": 6,
     "metadata": {},
     "output_type": "execute_result"
    }
   ],
   "source": [
    "m = getorg.orgmap.create_map_obj()\n",
    "getorg.orgmap.output_html_cluster_map(location_dict, folder_name=\"../talkmap\", hashed_usernames=False)"
   ]
  },
  {
   "cell_type": "code",
   "execution_count": null,
   "metadata": {
    "collapsed": true
   },
   "outputs": [],
   "source": []
  }
 ],
 "metadata": {
  "anaconda-cloud": {},
  "kernelspec": {
   "display_name": "base",
   "language": "python",
   "name": "python3"
  },
  "language_info": {
   "codemirror_mode": {
    "name": "ipython",
    "version": 3
   },
   "file_extension": ".py",
   "mimetype": "text/x-python",
   "name": "python",
   "nbconvert_exporter": "python",
   "pygments_lexer": "ipython3",
   "version": "3.9.7"
  }
 },
 "nbformat": 4,
 "nbformat_minor": 0
}
