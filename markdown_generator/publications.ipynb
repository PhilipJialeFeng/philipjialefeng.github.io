{
 "cells": [
  {
   "cell_type": "markdown",
   "metadata": {
    "deletable": true,
    "editable": true
   },
   "source": [
    "# Publications markdown generator for academicpages\n",
    "\n",
    "Takes a TSV of publications with metadata and converts them for use with [academicpages.github.io](academicpages.github.io). This is an interactive Jupyter notebook ([see more info here](http://jupyter-notebook-beginner-guide.readthedocs.io/en/latest/what_is_jupyter.html)). The core python code is also in `publications.py`. Run either from the `markdown_generator` folder after replacing `publications.tsv` with one containing your data.\n",
    "\n",
    "TODO: Make this work with BibTex and other databases of citations, rather than Stuart's non-standard TSV format and citation style.\n"
   ]
  },
  {
   "cell_type": "markdown",
   "metadata": {},
   "source": [
    "## Data format\n",
    "\n",
    "The TSV needs to have the following columns: pub_date, title, venue, excerpt, citation, site_url, and paper_url, with a header at the top. \n",
    "\n",
    "- `excerpt` and `paper_url` can be blank, but the others must have values. \n",
    "- `pub_date` must be formatted as YYYY-MM-DD.\n",
    "- `url_slug` will be the descriptive part of the .md file and the permalink URL for the page about the paper. The .md file will be `YYYY-MM-DD-[url_slug].md` and the permalink will be `https://[yourdomain]/publications/YYYY-MM-DD-[url_slug]`\n",
    "\n",
    "This is how the raw file looks (it doesn't look pretty, use a spreadsheet or other program to edit and create)."
   ]
  },
  {
   "cell_type": "code",
   "execution_count": 37,
   "metadata": {
    "collapsed": false
   },
   "outputs": [
    {
     "name": "stdout",
     "output_type": "stream",
     "text": [
      "pub_date\ttitle\tvenue\texcerpt\tcitation\turl_slug\tpaper_url\n",
      "2019-11-13\tCarbene metal amide photoemitters: tailoring conformationally flexible amides for full color range emissions including white-emitting OLED\tChemical Science\tConformationally flexible ?€?Carbene\t\"Romanov, A.S., Jones, S.T., Gu, Q., Conaghan, P.J., Drummond, B.H., Feng, J., Chotard, F., Buizza, L., Foley, M., Linnolahti, M. and Credgington, D., 2020. Carbene metal amide photoemitters: tailoring conformationally flexible amides for full color range emissions including white-emitting OLED. Chemical Science, 11(2), pp.435-446.\"\tCarbene-metal-amide-photoemitters-1\thttps://pubs.rsc.org/en/content/articlehtml/2020/sc/c9sc04589a\n",
      "2010-10-01\tPaper Title Number 2\tJournal 1\tThis paper is about the number 2. The number 3 is left for future work.\t\"Your Name, You. (2010). \"\"Paper Title Number 2.\"\" <i>Journal 1</i>. 1(2).\"\tpaper-title-number-2\thttp://academicpages.github.io/files/paper2.pdf\n",
      "2015-10-01\tPaper Title Number 4\tJournal 1\tThis paper is about the number 4. The number 4 is left for future work.\t\"Your Name, You. (2015). \"\"Paper Title Number 4.\"\" <i>Journal 1</i>. 1(4).\"\tpaper-title-number-4\thttp://academicpages.github.io/files/paper3.pdf\n",
      "2015-10-01\tPaper Title Number 5\tJournal 1\tThis paper is about the number 5. The number 4 is left for future work.\t\"Your Name, You. (2015). \"\"Paper Title Number 5.\"\" <i>Journal 1</i>. 1(3).\"\tpaper-title-number-5\thttp://academicpages.github.io/files/paper3.pdf\n",
      "2015-10-01\tPaper Title Number 6\tJournal 1\tThis paper is about the number 6. The number 4 is left for future work.\t\"Your Name, You. (2015). \"\"Paper Title Number 6.\"\" <i>Journal 1</i>. 1(3).\"\tpaper-title-number-6\thttp://academicpages.github.io/files/paper3.pdf\n"
     ]
    }
   ],
   "source": [
    "!type publications.tsv"
   ]
  },
  {
   "cell_type": "markdown",
   "metadata": {},
   "source": [
    "## Import pandas\n",
    "\n",
    "We are using the very handy pandas library for dataframes."
   ]
  },
  {
   "cell_type": "code",
   "execution_count": 38,
   "metadata": {
    "collapsed": true,
    "deletable": true,
    "editable": true
   },
   "outputs": [],
   "source": [
    "import pandas as pd"
   ]
  },
  {
   "cell_type": "markdown",
   "metadata": {},
   "source": [
    "## Import TSV\n",
    "\n",
    "Pandas makes this easy with the read_csv function. We are using a TSV, so we specify the separator as a tab, or `\\t`.\n",
    "\n",
    "I found it important to put this data in a tab-separated values format, because there are a lot of commas in this kind of data and comma-separated values can get messed up. However, you can modify the import statement, as pandas also has read_excel(), read_json(), and others."
   ]
  },
  {
   "cell_type": "code",
   "execution_count": 39,
   "metadata": {
    "collapsed": false,
    "deletable": true,
    "editable": true
   },
   "outputs": [
    {
     "data": {
      "text/html": [
       "<div>\n",
       "<style scoped>\n",
       "    .dataframe tbody tr th:only-of-type {\n",
       "        vertical-align: middle;\n",
       "    }\n",
       "\n",
       "    .dataframe tbody tr th {\n",
       "        vertical-align: top;\n",
       "    }\n",
       "\n",
       "    .dataframe thead th {\n",
       "        text-align: right;\n",
       "    }\n",
       "</style>\n",
       "<table border=\"1\" class=\"dataframe\">\n",
       "  <thead>\n",
       "    <tr style=\"text-align: right;\">\n",
       "      <th></th>\n",
       "      <th>pub_date</th>\n",
       "      <th>title</th>\n",
       "      <th>venue</th>\n",
       "      <th>excerpt</th>\n",
       "      <th>citation</th>\n",
       "      <th>url_slug</th>\n",
       "      <th>paper_url</th>\n",
       "    </tr>\n",
       "  </thead>\n",
       "  <tbody>\n",
       "    <tr>\n",
       "      <th>0</th>\n",
       "      <td>2019-11-13</td>\n",
       "      <td>Carbene metal amide photoemitters: tailoring c...</td>\n",
       "      <td>Chemical Science</td>\n",
       "      <td>Conformationally flexible ?€?Carbene</td>\n",
       "      <td>Romanov, A.S., Jones, S.T., Gu, Q., Conaghan, ...</td>\n",
       "      <td>Carbene-metal-amide-photoemitters-1</td>\n",
       "      <td>https://pubs.rsc.org/en/content/articlehtml/20...</td>\n",
       "    </tr>\n",
       "    <tr>\n",
       "      <th>1</th>\n",
       "      <td>2010-10-01</td>\n",
       "      <td>Paper Title Number 2</td>\n",
       "      <td>Journal 1</td>\n",
       "      <td>This paper is about the number 2. The number 3...</td>\n",
       "      <td>Your Name, You. (2010). \"Paper Title Number 2....</td>\n",
       "      <td>paper-title-number-2</td>\n",
       "      <td>http://academicpages.github.io/files/paper2.pdf</td>\n",
       "    </tr>\n",
       "    <tr>\n",
       "      <th>2</th>\n",
       "      <td>2015-10-01</td>\n",
       "      <td>Paper Title Number 4</td>\n",
       "      <td>Journal 1</td>\n",
       "      <td>This paper is about the number 4. The number 4...</td>\n",
       "      <td>Your Name, You. (2015). \"Paper Title Number 4....</td>\n",
       "      <td>paper-title-number-4</td>\n",
       "      <td>http://academicpages.github.io/files/paper3.pdf</td>\n",
       "    </tr>\n",
       "    <tr>\n",
       "      <th>3</th>\n",
       "      <td>2015-10-01</td>\n",
       "      <td>Paper Title Number 5</td>\n",
       "      <td>Journal 1</td>\n",
       "      <td>This paper is about the number 5. The number 4...</td>\n",
       "      <td>Your Name, You. (2015). \"Paper Title Number 5....</td>\n",
       "      <td>paper-title-number-5</td>\n",
       "      <td>http://academicpages.github.io/files/paper3.pdf</td>\n",
       "    </tr>\n",
       "    <tr>\n",
       "      <th>4</th>\n",
       "      <td>2015-10-01</td>\n",
       "      <td>Paper Title Number 6</td>\n",
       "      <td>Journal 1</td>\n",
       "      <td>This paper is about the number 6. The number 4...</td>\n",
       "      <td>Your Name, You. (2015). \"Paper Title Number 6....</td>\n",
       "      <td>paper-title-number-6</td>\n",
       "      <td>http://academicpages.github.io/files/paper3.pdf</td>\n",
       "    </tr>\n",
       "  </tbody>\n",
       "</table>\n",
       "</div>"
      ],
      "text/plain": [
       "     pub_date                                              title  \\\n",
       "0  2019-11-13  Carbene metal amide photoemitters: tailoring c...   \n",
       "1  2010-10-01                               Paper Title Number 2   \n",
       "2  2015-10-01                               Paper Title Number 4   \n",
       "3  2015-10-01                               Paper Title Number 5   \n",
       "4  2015-10-01                               Paper Title Number 6   \n",
       "\n",
       "              venue                                            excerpt  \\\n",
       "0  Chemical Science               Conformationally flexible ?€?Carbene   \n",
       "1         Journal 1  This paper is about the number 2. The number 3...   \n",
       "2         Journal 1  This paper is about the number 4. The number 4...   \n",
       "3         Journal 1  This paper is about the number 5. The number 4...   \n",
       "4         Journal 1  This paper is about the number 6. The number 4...   \n",
       "\n",
       "                                            citation  \\\n",
       "0  Romanov, A.S., Jones, S.T., Gu, Q., Conaghan, ...   \n",
       "1  Your Name, You. (2010). \"Paper Title Number 2....   \n",
       "2  Your Name, You. (2015). \"Paper Title Number 4....   \n",
       "3  Your Name, You. (2015). \"Paper Title Number 5....   \n",
       "4  Your Name, You. (2015). \"Paper Title Number 6....   \n",
       "\n",
       "                              url_slug  \\\n",
       "0  Carbene-metal-amide-photoemitters-1   \n",
       "1                 paper-title-number-2   \n",
       "2                 paper-title-number-4   \n",
       "3                 paper-title-number-5   \n",
       "4                 paper-title-number-6   \n",
       "\n",
       "                                           paper_url  \n",
       "0  https://pubs.rsc.org/en/content/articlehtml/20...  \n",
       "1    http://academicpages.github.io/files/paper2.pdf  \n",
       "2    http://academicpages.github.io/files/paper3.pdf  \n",
       "3    http://academicpages.github.io/files/paper3.pdf  \n",
       "4    http://academicpages.github.io/files/paper3.pdf  "
      ]
     },
     "execution_count": 39,
     "metadata": {},
     "output_type": "execute_result"
    }
   ],
   "source": [
    "publications = pd.read_csv(\"publications.tsv\", sep=\"\\t\", header=0, encoding='utf-8')\n",
    "publications\n"
   ]
  },
  {
   "cell_type": "markdown",
   "metadata": {},
   "source": [
    "## Escape special characters\n",
    "\n",
    "YAML is very picky about how it takes a valid string, so we are replacing single and double quotes (and ampersands) with their HTML encoded equivilents. This makes them look not so readable in raw format, but they are parsed and rendered nicely."
   ]
  },
  {
   "cell_type": "code",
   "execution_count": 40,
   "metadata": {
    "collapsed": true,
    "deletable": true,
    "editable": true
   },
   "outputs": [],
   "source": [
    "html_escape_table = {\n",
    "    \"&\": \"&amp;\",\n",
    "    '\"': \"&quot;\",\n",
    "    \"'\": \"&apos;\"\n",
    "    }\n",
    "\n",
    "def html_escape(text):\n",
    "    \"\"\"Produce entities within text.\"\"\"\n",
    "    return \"\".join(html_escape_table.get(c,c) for c in text)"
   ]
  },
  {
   "cell_type": "markdown",
   "metadata": {},
   "source": [
    "## Creating the markdown files\n",
    "\n",
    "This is where the heavy lifting is done. This loops through all the rows in the TSV dataframe, then starts to concatentate a big string (```md```) that contains the markdown for each type. It does the YAML metadata first, then does the description for the individual page."
   ]
  },
  {
   "cell_type": "code",
   "execution_count": 41,
   "metadata": {
    "collapsed": false,
    "deletable": true,
    "editable": true
   },
   "outputs": [],
   "source": [
    "import os\n",
    "for row, item in publications.iterrows():\n",
    "    \n",
    "    md_filename = str(item.pub_date) + \"-\" + item.url_slug + \".md\"\n",
    "    html_filename = str(item.pub_date) + \"-\" + item.url_slug\n",
    "    year = item.pub_date[:4]\n",
    "    \n",
    "    ## YAML variables\n",
    "    \n",
    "    md = \"---\\ntitle: \\\"\"   + item.title + '\"\\n'\n",
    "    \n",
    "    md += \"\"\"collection: publications\"\"\"\n",
    "    \n",
    "    md += \"\"\"\\npermalink: /publication/\"\"\" + html_filename\n",
    "    \n",
    "    if len(str(item.excerpt)) > 5:\n",
    "        md += \"\\nexcerpt: '\" + html_escape(item.excerpt) + \"'\"\n",
    "    \n",
    "    md += \"\\ndate: \" + str(item.pub_date) \n",
    "    \n",
    "    md += \"\\nvenue: '\" + html_escape(item.venue) + \"'\"\n",
    "    \n",
    "    if len(str(item.paper_url)) > 5:\n",
    "        md += \"\\npaperurl: '\" + item.paper_url + \"'\"\n",
    "    \n",
    "    md += \"\\ncitation: '\" + html_escape(item.citation) + \"'\"\n",
    "    \n",
    "    md += \"\\n---\"\n",
    "    \n",
    "    ## Markdown description for individual page\n",
    "        \n",
    "    if len(str(item.excerpt)) > 5:\n",
    "        md += \"\\n\" + html_escape(item.excerpt) + \"\\n\"\n",
    "    \n",
    "    if len(str(item.paper_url)) > 5:\n",
    "        md += \"\\n[Download paper here](\" + item.paper_url + \")\\n\" \n",
    "        \n",
    "    md += \"\\nRecommended citation: \" + item.citation\n",
    "    \n",
    "    md_filename = os.path.basename(md_filename)\n",
    "       \n",
    "    with open(\"../_publications/\" + md_filename, 'w') as f:\n",
    "        f.write(md)"
   ]
  },
  {
   "cell_type": "markdown",
   "metadata": {},
   "source": [
    "These files are in the publications directory, one directory below where we're working from."
   ]
  },
  {
   "cell_type": "code",
   "execution_count": 14,
   "metadata": {
    "collapsed": false,
    "deletable": true,
    "editable": true
   },
   "outputs": [
    {
     "name": "stderr",
     "output_type": "stream",
     "text": [
      "Invalid switch - \"_publications\".\n"
     ]
    }
   ],
   "source": [
    "%ls ../_publications/"
   ]
  },
  {
   "cell_type": "code",
   "execution_count": 16,
   "metadata": {
    "collapsed": false,
    "deletable": true,
    "editable": true
   },
   "outputs": [
    {
     "name": "stderr",
     "output_type": "stream",
     "text": [
      "UsageError: Line magic function `%cat` not found.\n"
     ]
    }
   ],
   "source": [
    "%cat ../_publications/2009-10-01-paper-title-number-1.md"
   ]
  },
  {
   "cell_type": "code",
   "execution_count": null,
   "metadata": {
    "collapsed": true,
    "deletable": true,
    "editable": true
   },
   "outputs": [],
   "source": []
  }
 ],
 "metadata": {
  "kernelspec": {
   "display_name": "Python 3",
   "language": "python",
   "name": "python3"
  },
  "language_info": {
   "codemirror_mode": {
    "name": "ipython",
    "version": 3
   },
   "file_extension": ".py",
   "mimetype": "text/x-python",
   "name": "python",
   "nbconvert_exporter": "python",
   "pygments_lexer": "ipython3",
   "version": "3.9.7"
  }
 },
 "nbformat": 4,
 "nbformat_minor": 0
}
